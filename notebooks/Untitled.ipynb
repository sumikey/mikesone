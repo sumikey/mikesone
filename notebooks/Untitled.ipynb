{
 "cells": [
  {
   "cell_type": "code",
   "execution_count": 7,
   "id": "98d3f92f-680b-406c-955a-12c33a23686d",
   "metadata": {},
   "outputs": [],
   "source": [
    "import matplotlib.pyplot as plt\n",
    "import numpy as np\n",
    "from random import randint"
   ]
  },
  {
   "cell_type": "code",
   "execution_count": 27,
   "id": "dad19723-13df-4948-8b47-42d99b5a6871",
   "metadata": {},
   "outputs": [],
   "source": [
    "def try_me():\n",
    "    \"\"\"Test function for sharing with colleagues\"\"\"\n",
    "    x = []\n",
    "    y = []\n",
    "    for i in range(49):\n",
    "        x.append(randint(1,85))\n",
    "        y.append(randint(1,90))\n",
    "    x.append(99)\n",
    "    y.append(99)\n",
    "    figure = plt.figure(figsize=(6,4))\n",
    "    plt.scatter(x,y)\n",
    "    plt.title(\"Le Wagon batch 708 is the best\")\n",
    "    plt.xlabel(\"Looks\")\n",
    "    plt.ylabel(\"Brains\")\n",
    "    plt.text(95, 92, 'Batch 708')\n",
    "    plt.show()\n",
    "    return figure"
   ]
  },
  {
   "cell_type": "code",
   "execution_count": 33,
   "id": "f35310e0-204b-471c-ada2-5c8ac078549b",
   "metadata": {},
   "outputs": [
    {
     "data": {
      "image/png": "[encoded data removed]",
      "text/plain": [
       "<Figure size 432x288 with 1 Axes>"
      ]
     },
     "metadata": {
      "needs_background": "light"
     },
     "output_type": "display_data"
    }
   ],
   "source": [
    "b = try_me()"
   ]
  },
  {
   "cell_type": "code",
   "execution_count": null,
   "id": "d77bc094-7b11-4e5a-8cea-7eadc80d50a8",
   "metadata": {},
   "outputs": [],
   "source": []
  },
  {
   "cell_type": "code",
   "execution_count": 34,
   "id": "9a0b2047-377b-4109-bfa2-82752060bb7b",
   "metadata": {},
   "outputs": [
    {
     "data": {
      "text/plain": [
       "matplotlib.figure.Figure"
      ]
     },
     "execution_count": 34,
     "metadata": {},
     "output_type": "execute_result"
    }
   ],
   "source": [
    "type(b)"
   ]
  },
  {
   "cell_type": "code",
   "execution_count": null,
   "id": "ceb134af-bb68-438e-b18a-16e329e6b2e0",
   "metadata": {},
   "outputs": [],
   "source": []
  }
 ],
 "metadata": {
  "kernelspec": {
   "display_name": "Python 3 (ipykernel)",
   "language": "python",
   "name": "python3"
  },
  "language_info": {
   "codemirror_mode": {
    "name": "ipython",
    "version": 3
   },
   "file_extension": ".py",
   "mimetype": "text/x-python",
   "name": "python",
   "nbconvert_exporter": "python",
   "pygments_lexer": "ipython3",
   "version": "3.8.6"
  }
 },
 "nbformat": 4,
 "nbformat_minor": 5
}
